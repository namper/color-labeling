{
  "nbformat": 4,
  "nbformat_minor": 0,
  "metadata": {
    "colab": {
      "name": "color_labeling.ipynb",
      "provenance": [],
      "collapsed_sections": []
    },
    "kernelspec": {
      "name": "python3",
      "display_name": "Python 3"
    },
    "accelerator": "GPU"
  },
  "cells": [
    {
      "cell_type": "code",
      "metadata": {
        "id": "KavXtRd0olXt",
        "colab_type": "code",
        "colab": {}
      },
      "source": [
        "# Imports\n",
        "import os\n",
        "import sys\n",
        "import torch\n",
        "import numpy as np\n",
        "from torch import nn\n",
        "from PIL import Image\n",
        "from torch import optim\n",
        "import torch.nn.functional as F\n",
        "from torch.autograd import Variable\n",
        "from torchvision import datasets, transforms, models"
      ],
      "execution_count": 5,
      "outputs": []
    },
    {
      "cell_type": "code",
      "metadata": {
        "id": "sAJbmGh1qPo1",
        "colab_type": "code",
        "colab": {}
      },
      "source": [
        "DOWNLOAD = False # Switch To True If You Want To Parse Google"
      ],
      "execution_count": 24,
      "outputs": []
    },
    {
      "cell_type": "code",
      "metadata": {
        "id": "u-wqevmNkynP",
        "colab_type": "code",
        "colab": {}
      },
      "source": [
        "if DOWNLOAD:\n",
        "  # Download Google Chrome Driver And Install Google Image Downloader \n",
        "  %pip uninstall google_images_download;pip install git+https://github.com/Joeclinton1/google-images-download.git\n",
        "  !apt-get update # to update ubuntu to correctly run apt install\n",
        "  !apt install chromium-chromedriver\n",
        "  !cp /usr/lib/chromium-browser/chromedriver /usr/bin\n",
        "  sys.path.insert(0,'/usr/lib/chromium-browser/chromedriver')\n",
        "\n",
        "  from google_images_download import google_images_download as gid\n",
        "\n",
        "  # let's keep it simple and only learn this three colors\n",
        "  COLORS = ('red', 'green', 'blue',)\n",
        "\n",
        "  arguments = dict(limit=150, format='jpg', exact_size='200,200', chromedriver='/usr/bin/chromedriver')\n",
        "\n",
        "  response = gid.googleimagesdownload()\n",
        "\n",
        "  for color in COLORS:\n",
        "    arguments = {**arguments, 'keywords': color, 'color': color, 'image_directory': color}\n",
        "    response.download(arguments)\n",
        "  # Download Data\n",
        "  !zip -r downloads.zip downloads\n",
        "  from google.colab import files\n",
        "  files.download('downloads.zip')"
      ],
      "execution_count": 26,
      "outputs": []
    },
    {
      "cell_type": "code",
      "metadata": {
        "id": "9gZz5JFBo2tI",
        "colab_type": "code",
        "colab": {
          "base_uri": "https://localhost:8080/",
          "height": 32
        },
        "outputId": "94633be9-dfd5-4827-9fcd-56b8b1a6479d"
      },
      "source": [
        "# Check GPU - ON \n",
        "device = torch.device(\"cuda\" if torch.cuda.is_available() \n",
        "                                  else \"cpu\")\n",
        "device"
      ],
      "execution_count": 12,
      "outputs": [
        {
          "output_type": "execute_result",
          "data": {
            "text/plain": [
              "device(type='cuda')"
            ]
          },
          "metadata": {
            "tags": []
          },
          "execution_count": 12
        }
      ]
    },
    {
      "cell_type": "code",
      "metadata": {
        "id": "xWaxBwfupbSc",
        "colab_type": "code",
        "colab": {
          "base_uri": "https://localhost:8080/",
          "height": 32
        },
        "outputId": "11d186fd-d6e1-491b-986d-3aa0f03e9e5a"
      },
      "source": [
        "# Spit Data To Train, Test Data And Retrieve Random Sample\n",
        "\n",
        "from torch.utils.data.sampler import SubsetRandomSampler\n",
        "VALIDATION_SIZE = 0.2\n",
        "IMG_SIZE = 224\n",
        "\n",
        "# transformation for images\n",
        "transform = transforms.Compose([transforms.Resize((IMG_SIZE, IMG_SIZE)),\n",
        "                               transforms.ToTensor(),\n",
        "                               transforms.Normalize(mean=[0.485, 0.456, 0.406], std=[0.229, 0.224, 0.225])])\n",
        "\n",
        "\n",
        "train_data = datasets.ImageFolder('downloads', transform=transform)\n",
        "test_data = datasets.ImageFolder('downloads', transform=transform)\n",
        "\n",
        "# split by random shuffling \n",
        "data_len = len(train_data)\n",
        "\n",
        "indicies = list(range(data_len))\n",
        "np.random.shuffle(indicies)\n",
        "\n",
        "split_at = int(np.floor(VALIDATION_SIZE * data_len))\n",
        "test_ids, train_ids = indicies[: split_at], indicies[split_at:]\n",
        "\n",
        "train_loader = torch.utils.data.DataLoader(train_data, sampler=SubsetRandomSampler(train_ids), batch_size=64)\n",
        "test_loader = torch.utils.data.DataLoader(test_data, sampler=SubsetRandomSampler(test_ids), batch_size=64)\n",
        "\n",
        "classes = train_loader.dataset.classes\n",
        "classes"
      ],
      "execution_count": 13,
      "outputs": [
        {
          "output_type": "execute_result",
          "data": {
            "text/plain": [
              "['blue', 'green', 'red']"
            ]
          },
          "metadata": {
            "tags": []
          },
          "execution_count": 13
        }
      ]
    },
    {
      "cell_type": "code",
      "metadata": {
        "id": "8MJVy8GI_9Wi",
        "colab_type": "code",
        "colab": {}
      },
      "source": [
        "class ConvNet(nn.Module):\n",
        "  def __init__(self, *args, **kwargs):\n",
        "    super(ConvNet, self).__init__(*args, **kwargs)\n",
        "\n",
        "    self.layer1 = nn.Sequential(\n",
        "            nn.Conv2d(3, 8, kernel_size=5, stride=1, padding=2),\n",
        "            nn.ReLU(),\n",
        "            nn.MaxPool2d(kernel_size=2, stride=2))\n",
        "    \n",
        "    self.layer2 = nn.Sequential(\n",
        "        nn.Conv2d(8, 16, kernel_size=5, stride=1, padding=2),\n",
        "        nn.ReLU(),\n",
        "        nn.MaxPool2d(kernel_size=2, stride=2))\n",
        "    \n",
        "    self.layer3 = nn.Sequential(\n",
        "        nn.Conv2d(16, 32, kernel_size=5, stride=1, padding=2),\n",
        "        nn.ReLU(),\n",
        "        nn.MaxPool2d(kernel_size=2, stride=2))\n",
        "    \n",
        "    self.drop_out = nn.Dropout(p=0.2)\n",
        "  \n",
        "    self.fc1 = nn.Linear(32*int(IMG_SIZE/8)**2, 1024)\n",
        "    self.fc2 = nn.Linear(1024, 512)\n",
        "    self.fc3 = nn.Linear(512, 256)\n",
        "    self.fc4 = nn.Linear(256, 3)\n",
        "\n",
        "  def forward(self, x):\n",
        "    # Convolution\n",
        "    out = self.layer1(x)\n",
        "    out = self.layer2(out)\n",
        "    out = self.layer3(out)\n",
        "\n",
        "    # Flatten & Register Drop Out\n",
        "    out = out.reshape(out.size(0), -1)\n",
        "    out = self.drop_out(out)\n",
        "\n",
        "    # Fully Connected Layer\n",
        "    out = self.fc1(out)\n",
        "    out = self.fc2(out)\n",
        "    out = self.fc3(out)\n",
        "    out = self.fc4(out)\n",
        "\n",
        "    return out\n",
        "\n",
        "\n",
        "model = ConvNet()\n",
        "model.to(device)\n",
        "optimizer = optim.Adam(model.parameters(), lr=0.003)\n",
        "criterion = nn.NLLLoss()"
      ],
      "execution_count": 17,
      "outputs": []
    },
    {
      "cell_type": "code",
      "metadata": {
        "id": "LuaP2qLFsCH_",
        "colab_type": "code",
        "colab": {
          "base_uri": "https://localhost:8080/"
        },
        "outputId": "252cfb4e-8b03-499a-8af4-dee5354642d0"
      },
      "source": [
        "# Freeze The Pre-Trained Layers And Add Fully Connected Layer To Train Images -- OVERFITS -- DUH :D \n",
        "\n",
        "model = models.resnet18(pretrained=True)\n",
        "\n",
        "for param in model.parameters():\n",
        "    param.requires_grad = False\n",
        "    \n",
        "model.fc = nn.Sequential(\n",
        "    # nn.Conv2d(512, 256, )\n",
        "    nn.Linear(512, 256),\n",
        "    nn.ReLU(),\n",
        "    nn.Dropout(0.2),\n",
        "    nn.Linear(256, 3),\n",
        "    nn.LogSoftmax(dim=1)\n",
        ")\n",
        "criterion = nn.NLLLoss()\n",
        "optimizer = optim.Adam(model.fc.parameters(), lr=0.003)\n",
        "model.to(device)"
      ],
      "execution_count": 30,
      "outputs": [
        {
          "output_type": "stream",
          "text": [
            "Downloading: \"https://download.pytorch.org/models/resnet18-5c106cde.pth\" to /root/.cache/torch/hub/checkpoints/resnet18-5c106cde.pth\n"
          ],
          "name": "stderr"
        },
        {
          "output_type": "display_data",
          "data": {
            "application/vnd.jupyter.widget-view+json": {
              "model_id": "f4717f70dfd24ad6b3ea5e917bce5c9e",
              "version_minor": 0,
              "version_major": 2
            },
            "text/plain": [
              "HBox(children=(FloatProgress(value=0.0, max=46827520.0), HTML(value='')))"
            ]
          },
          "metadata": {
            "tags": []
          }
        },
        {
          "output_type": "stream",
          "text": [
            "\n"
          ],
          "name": "stdout"
        },
        {
          "output_type": "execute_result",
          "data": {
            "text/plain": [
              "ResNet(\n",
              "  (conv1): Conv2d(3, 64, kernel_size=(7, 7), stride=(2, 2), padding=(3, 3), bias=False)\n",
              "  (bn1): BatchNorm2d(64, eps=1e-05, momentum=0.1, affine=True, track_running_stats=True)\n",
              "  (relu): ReLU(inplace=True)\n",
              "  (maxpool): MaxPool2d(kernel_size=3, stride=2, padding=1, dilation=1, ceil_mode=False)\n",
              "  (layer1): Sequential(\n",
              "    (0): BasicBlock(\n",
              "      (conv1): Conv2d(64, 64, kernel_size=(3, 3), stride=(1, 1), padding=(1, 1), bias=False)\n",
              "      (bn1): BatchNorm2d(64, eps=1e-05, momentum=0.1, affine=True, track_running_stats=True)\n",
              "      (relu): ReLU(inplace=True)\n",
              "      (conv2): Conv2d(64, 64, kernel_size=(3, 3), stride=(1, 1), padding=(1, 1), bias=False)\n",
              "      (bn2): BatchNorm2d(64, eps=1e-05, momentum=0.1, affine=True, track_running_stats=True)\n",
              "    )\n",
              "    (1): BasicBlock(\n",
              "      (conv1): Conv2d(64, 64, kernel_size=(3, 3), stride=(1, 1), padding=(1, 1), bias=False)\n",
              "      (bn1): BatchNorm2d(64, eps=1e-05, momentum=0.1, affine=True, track_running_stats=True)\n",
              "      (relu): ReLU(inplace=True)\n",
              "      (conv2): Conv2d(64, 64, kernel_size=(3, 3), stride=(1, 1), padding=(1, 1), bias=False)\n",
              "      (bn2): BatchNorm2d(64, eps=1e-05, momentum=0.1, affine=True, track_running_stats=True)\n",
              "    )\n",
              "  )\n",
              "  (layer2): Sequential(\n",
              "    (0): BasicBlock(\n",
              "      (conv1): Conv2d(64, 128, kernel_size=(3, 3), stride=(2, 2), padding=(1, 1), bias=False)\n",
              "      (bn1): BatchNorm2d(128, eps=1e-05, momentum=0.1, affine=True, track_running_stats=True)\n",
              "      (relu): ReLU(inplace=True)\n",
              "      (conv2): Conv2d(128, 128, kernel_size=(3, 3), stride=(1, 1), padding=(1, 1), bias=False)\n",
              "      (bn2): BatchNorm2d(128, eps=1e-05, momentum=0.1, affine=True, track_running_stats=True)\n",
              "      (downsample): Sequential(\n",
              "        (0): Conv2d(64, 128, kernel_size=(1, 1), stride=(2, 2), bias=False)\n",
              "        (1): BatchNorm2d(128, eps=1e-05, momentum=0.1, affine=True, track_running_stats=True)\n",
              "      )\n",
              "    )\n",
              "    (1): BasicBlock(\n",
              "      (conv1): Conv2d(128, 128, kernel_size=(3, 3), stride=(1, 1), padding=(1, 1), bias=False)\n",
              "      (bn1): BatchNorm2d(128, eps=1e-05, momentum=0.1, affine=True, track_running_stats=True)\n",
              "      (relu): ReLU(inplace=True)\n",
              "      (conv2): Conv2d(128, 128, kernel_size=(3, 3), stride=(1, 1), padding=(1, 1), bias=False)\n",
              "      (bn2): BatchNorm2d(128, eps=1e-05, momentum=0.1, affine=True, track_running_stats=True)\n",
              "    )\n",
              "  )\n",
              "  (layer3): Sequential(\n",
              "    (0): BasicBlock(\n",
              "      (conv1): Conv2d(128, 256, kernel_size=(3, 3), stride=(2, 2), padding=(1, 1), bias=False)\n",
              "      (bn1): BatchNorm2d(256, eps=1e-05, momentum=0.1, affine=True, track_running_stats=True)\n",
              "      (relu): ReLU(inplace=True)\n",
              "      (conv2): Conv2d(256, 256, kernel_size=(3, 3), stride=(1, 1), padding=(1, 1), bias=False)\n",
              "      (bn2): BatchNorm2d(256, eps=1e-05, momentum=0.1, affine=True, track_running_stats=True)\n",
              "      (downsample): Sequential(\n",
              "        (0): Conv2d(128, 256, kernel_size=(1, 1), stride=(2, 2), bias=False)\n",
              "        (1): BatchNorm2d(256, eps=1e-05, momentum=0.1, affine=True, track_running_stats=True)\n",
              "      )\n",
              "    )\n",
              "    (1): BasicBlock(\n",
              "      (conv1): Conv2d(256, 256, kernel_size=(3, 3), stride=(1, 1), padding=(1, 1), bias=False)\n",
              "      (bn1): BatchNorm2d(256, eps=1e-05, momentum=0.1, affine=True, track_running_stats=True)\n",
              "      (relu): ReLU(inplace=True)\n",
              "      (conv2): Conv2d(256, 256, kernel_size=(3, 3), stride=(1, 1), padding=(1, 1), bias=False)\n",
              "      (bn2): BatchNorm2d(256, eps=1e-05, momentum=0.1, affine=True, track_running_stats=True)\n",
              "    )\n",
              "  )\n",
              "  (layer4): Sequential(\n",
              "    (0): BasicBlock(\n",
              "      (conv1): Conv2d(256, 512, kernel_size=(3, 3), stride=(2, 2), padding=(1, 1), bias=False)\n",
              "      (bn1): BatchNorm2d(512, eps=1e-05, momentum=0.1, affine=True, track_running_stats=True)\n",
              "      (relu): ReLU(inplace=True)\n",
              "      (conv2): Conv2d(512, 512, kernel_size=(3, 3), stride=(1, 1), padding=(1, 1), bias=False)\n",
              "      (bn2): BatchNorm2d(512, eps=1e-05, momentum=0.1, affine=True, track_running_stats=True)\n",
              "      (downsample): Sequential(\n",
              "        (0): Conv2d(256, 512, kernel_size=(1, 1), stride=(2, 2), bias=False)\n",
              "        (1): BatchNorm2d(512, eps=1e-05, momentum=0.1, affine=True, track_running_stats=True)\n",
              "      )\n",
              "    )\n",
              "    (1): BasicBlock(\n",
              "      (conv1): Conv2d(512, 512, kernel_size=(3, 3), stride=(1, 1), padding=(1, 1), bias=False)\n",
              "      (bn1): BatchNorm2d(512, eps=1e-05, momentum=0.1, affine=True, track_running_stats=True)\n",
              "      (relu): ReLU(inplace=True)\n",
              "      (conv2): Conv2d(512, 512, kernel_size=(3, 3), stride=(1, 1), padding=(1, 1), bias=False)\n",
              "      (bn2): BatchNorm2d(512, eps=1e-05, momentum=0.1, affine=True, track_running_stats=True)\n",
              "    )\n",
              "  )\n",
              "  (avgpool): AdaptiveAvgPool2d(output_size=(1, 1))\n",
              "  (fc): Sequential(\n",
              "    (0): Linear(in_features=512, out_features=256, bias=True)\n",
              "    (1): ReLU()\n",
              "    (2): Dropout(p=0.2, inplace=False)\n",
              "    (3): Linear(in_features=256, out_features=3, bias=True)\n",
              "    (4): LogSoftmax(dim=1)\n",
              "  )\n",
              ")"
            ]
          },
          "metadata": {
            "tags": []
          },
          "execution_count": 30
        }
      ]
    },
    {
      "cell_type": "code",
      "metadata": {
        "id": "efsDHLYD0qMZ",
        "colab_type": "code",
        "colab": {
          "base_uri": "https://localhost:8080/"
        },
        "outputId": "01ea9cd7-5be9-4007-fbfa-726555745ddb"
      },
      "source": [
        "# Train & Display\n",
        "\n",
        "epochs = 50\n",
        "steps = 0\n",
        "running_loss = 0\n",
        "print_every = 10\n",
        "train_losses, test_losses = [], []\n",
        "for epoch in range(epochs):\n",
        "    for inputs, labels in train_loader:\n",
        "        steps += 1\n",
        "        inputs, labels = inputs.to(device), labels.to(device)\n",
        "        optimizer.zero_grad()\n",
        "        logps = model.forward(inputs)\n",
        "        loss = criterion(logps, labels)\n",
        "        loss.backward()\n",
        "        optimizer.step()\n",
        "        running_loss += loss.item()\n",
        "        \n",
        "        if steps % print_every == 0:\n",
        "            test_loss = 0\n",
        "            accuracy = 0\n",
        "            model.eval()\n",
        "            with torch.no_grad():\n",
        "                for inputs, labels in test_loader:\n",
        "                    inputs, labels = inputs.to(device), labels.to(device)\n",
        "                    logps = model.forward(inputs)\n",
        "                    batch_loss = criterion(logps, labels)\n",
        "                    test_loss += batch_loss.item()\n",
        "                    \n",
        "                    ps = torch.exp(logps)\n",
        "                    top_p, top_class = ps.topk(1, dim=1)\n",
        "                    equals = top_class == labels.view(*top_class.shape)\n",
        "                    accuracy += \\\n",
        "                   torch.mean(equals.type(torch.FloatTensor)).item()\n",
        "            train_losses.append(running_loss/len(train_loader))\n",
        "            test_losses.append(test_loss/len(test_loader))\n",
        "\n",
        "            print(f\"Epoch {epoch+1}/{epochs}.. \"\n",
        "                  f\"Train loss: {running_loss/print_every:.3f}.. \"\n",
        "                  f\"Test loss: {test_loss/len(test_loader):.3f}.. \"\n",
        "                  f\"Test accuracy: {accuracy/len(test_loader):.3f}\")\n",
        "            running_loss = 0\n",
        "            model.train()\n",
        "torch.save(model, 'colour.pth')"
      ],
      "execution_count": 31,
      "outputs": [
        {
          "output_type": "stream",
          "text": [
            "Epoch 2/50.. Train loss: 0.816.. Test loss: 0.759.. Test accuracy: 0.697\n",
            "Epoch 3/50.. Train loss: 0.488.. Test loss: 0.469.. Test accuracy: 0.852\n",
            "Epoch 5/50.. Train loss: 0.245.. Test loss: 0.313.. Test accuracy: 0.899\n",
            "Epoch 6/50.. Train loss: 0.181.. Test loss: 0.226.. Test accuracy: 0.918\n",
            "Epoch 8/50.. Train loss: 0.128.. Test loss: 0.248.. Test accuracy: 0.907\n",
            "Epoch 9/50.. Train loss: 0.107.. Test loss: 0.259.. Test accuracy: 0.903\n",
            "Epoch 10/50.. Train loss: 0.075.. Test loss: 0.276.. Test accuracy: 0.887\n",
            "Epoch 12/50.. Train loss: 0.084.. Test loss: 0.257.. Test accuracy: 0.914\n",
            "Epoch 13/50.. Train loss: 0.058.. Test loss: 0.240.. Test accuracy: 0.891\n",
            "Epoch 15/50.. Train loss: 0.046.. Test loss: 0.291.. Test accuracy: 0.887\n",
            "Epoch 16/50.. Train loss: 0.047.. Test loss: 0.344.. Test accuracy: 0.891\n",
            "Epoch 18/50.. Train loss: 0.066.. Test loss: 0.395.. Test accuracy: 0.907\n",
            "Epoch 19/50.. Train loss: 0.029.. Test loss: 0.265.. Test accuracy: 0.899\n",
            "Epoch 20/50.. Train loss: 0.029.. Test loss: 0.335.. Test accuracy: 0.915\n",
            "Epoch 22/50.. Train loss: 0.054.. Test loss: 0.303.. Test accuracy: 0.872\n",
            "Epoch 23/50.. Train loss: 0.015.. Test loss: 0.302.. Test accuracy: 0.883\n",
            "Epoch 25/50.. Train loss: 0.010.. Test loss: 0.273.. Test accuracy: 0.891\n",
            "Epoch 26/50.. Train loss: 0.014.. Test loss: 0.283.. Test accuracy: 0.895\n",
            "Epoch 28/50.. Train loss: 0.015.. Test loss: 0.363.. Test accuracy: 0.876\n",
            "Epoch 29/50.. Train loss: 0.012.. Test loss: 0.340.. Test accuracy: 0.899\n",
            "Epoch 30/50.. Train loss: 0.011.. Test loss: 0.345.. Test accuracy: 0.880\n",
            "Epoch 32/50.. Train loss: 0.009.. Test loss: 0.348.. Test accuracy: 0.887\n",
            "Epoch 33/50.. Train loss: 0.006.. Test loss: 0.345.. Test accuracy: 0.883\n",
            "Epoch 35/50.. Train loss: 0.038.. Test loss: 0.420.. Test accuracy: 0.887\n",
            "Epoch 36/50.. Train loss: 0.044.. Test loss: 0.290.. Test accuracy: 0.876\n",
            "Epoch 38/50.. Train loss: 0.035.. Test loss: 0.483.. Test accuracy: 0.856\n",
            "Epoch 39/50.. Train loss: 0.144.. Test loss: 0.407.. Test accuracy: 0.883\n",
            "Epoch 40/50.. Train loss: 0.018.. Test loss: 0.466.. Test accuracy: 0.860\n",
            "Epoch 42/50.. Train loss: 0.022.. Test loss: 0.291.. Test accuracy: 0.907\n",
            "Epoch 43/50.. Train loss: 0.036.. Test loss: 0.474.. Test accuracy: 0.875\n",
            "Epoch 45/50.. Train loss: 0.105.. Test loss: 0.510.. Test accuracy: 0.848\n",
            "Epoch 46/50.. Train loss: 0.022.. Test loss: 0.321.. Test accuracy: 0.883\n",
            "Epoch 48/50.. Train loss: 0.011.. Test loss: 0.457.. Test accuracy: 0.876\n",
            "Epoch 49/50.. Train loss: 0.006.. Test loss: 0.286.. Test accuracy: 0.914\n",
            "Epoch 50/50.. Train loss: 0.012.. Test loss: 0.478.. Test accuracy: 0.856\n"
          ],
          "name": "stdout"
        }
      ]
    },
    {
      "cell_type": "code",
      "metadata": {
        "id": "lMf7TLBrrE91",
        "colab_type": "code",
        "colab": {}
      },
      "source": [
        "# Test Generalization\n",
        "model = torch.load('colour.pth')\n",
        "model.eval()\n",
        "\n",
        "def predict_image(image):\n",
        "  image_tensor = transform(image).float()\n",
        "  image_tensor = image_tensor.unsqueeze_(0)\n",
        "  input = Variable(image_tensor)\n",
        "  input = input.to(device)\n",
        "  output = model(input)\n",
        "  index = output.data.cpu().numpy().argmax()\n",
        "  return index"
      ],
      "execution_count": 32,
      "outputs": []
    },
    {
      "cell_type": "code",
      "metadata": {
        "id": "ItzvrYY8vRhP",
        "colab_type": "code",
        "colab": {
          "base_uri": "https://localhost:8080/",
          "height": 665
        },
        "outputId": "09cb163d-7d45-4f6d-996e-d5eb16acbf97"
      },
      "source": [
        "# COLOUR = 'blue'\n",
        "\n",
        "# colors = [Image.open(f'DATA/{COLOUR}/'+image) for image in os.listdir(f'DATA/{COLOUR}')]\n",
        "# for color in colors:\n",
        "#   prediction = classes[predict_image(color)]\n",
        "#   print(prediction, prediction == COLOUR)\n",
        "from IPython import display\n",
        "\n",
        "\n",
        "syntetic = [ (22, 22, 222), (222, 22, 22), (22, 222, 22)]\n",
        "for clr in syntetic:\n",
        "  im = Image.new('RGB', (200, 200), clr)\n",
        "  prediction = predict_image(im)\n",
        "  print(prediction, classes[prediction])\n",
        "  display.display(im)"
      ],
      "execution_count": 40,
      "outputs": [
        {
          "output_type": "stream",
          "text": [
            "0 blue\n"
          ],
          "name": "stdout"
        },
        {
          "output_type": "display_data",
          "data": {
            "image/png": "[encoded data removed]",
            "text/plain": [
              "<PIL.Image.Image image mode=RGB size=200x200 at 0x7FC3A8BD5B38>"
            ]
          },
          "metadata": {
            "tags": []
          }
        },
        {
          "output_type": "stream",
          "text": [
            "2 red\n"
          ],
          "name": "stdout"
        },
        {
          "output_type": "display_data",
          "data": {
            "image/png": "[encoded data removed]",
            "text/plain": [
              "<PIL.Image.Image image mode=RGB size=200x200 at 0x7FC3A8BD5518>"
            ]
          },
          "metadata": {
            "tags": []
          }
        },
        {
          "output_type": "stream",
          "text": [
            "1 green\n"
          ],
          "name": "stdout"
        },
        {
          "output_type": "display_data",
          "data": {
            "image/png": "[encoded data removed]",
            "text/plain": [
              "<PIL.Image.Image image mode=RGB size=200x200 at 0x7FC3A8BD5A90>"
            ]
          },
          "metadata": {
            "tags": []
          }
        }
      ]
    },
    {
      "cell_type": "code",
      "metadata": {
        "id": "8zInVmiRr5gR",
        "colab_type": "code",
        "colab": {
          "base_uri": "https://localhost:8080/",
          "height": 32
        },
        "outputId": "0e852694-7d79-4525-bee9-fc1cb554a055"
      },
      "source": [
        "test_loss = 0\n",
        "accuracy = 0\n",
        "model.eval()\n",
        "with torch.no_grad():\n",
        "    for inputs, labels in test_loader:\n",
        "        inputs, labels = inputs.to(device), labels.to(device)\n",
        "        logps = model.forward(inputs)\n",
        "        batch_loss = criterion(logps, labels)\n",
        "        test_loss += batch_loss.item()\n",
        "        \n",
        "        ps = torch.exp(logps)\n",
        "        top_p, top_class = ps.topk(1, dim=1)\n",
        "        equals = top_class == labels.view(*top_class.shape)\n",
        "        accuracy += \\\n",
        "        torch.mean(equals.type(torch.FloatTensor)).item()\n",
        "train_losses.append(running_loss/len(train_loader))\n",
        "test_losses.append(test_loss/len(test_loader))\n",
        "\n",
        "print(f\"Epoch {epoch+1}/{epochs}.. \"\n",
        "      f\"Train loss: {running_loss/print_every:.3f}.. \"\n",
        "      f\"Test loss: {test_loss/len(test_loader):.3f}.. \"\n",
        "      f\"Test accuracy: {accuracy/len(test_loader):.3f}\")"
      ],
      "execution_count": 41,
      "outputs": [
        {
          "output_type": "stream",
          "text": [
            "Epoch 50/50.. Train loss: 0.000.. Test loss: 0.506.. Test accuracy: 0.848\n"
          ],
          "name": "stdout"
        }
      ]
    },
    {
      "cell_type": "code",
      "metadata": {
        "id": "BtCYjNMoubqI",
        "colab_type": "code",
        "colab": {}
      },
      "source": [
        ""
      ],
      "execution_count": null,
      "outputs": []
    },
    {
      "cell_type": "markdown",
      "metadata": {
        "id": "f3b2SvkSuexN",
        "colab_type": "text"
      },
      "source": [
        ""
      ]
    }
  ]
}